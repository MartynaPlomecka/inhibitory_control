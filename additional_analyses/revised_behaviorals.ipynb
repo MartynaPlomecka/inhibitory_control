{
 "cells": [
  {
   "cell_type": "code",
   "execution_count": 1,
   "metadata": {},
   "outputs": [],
   "source": [
    "import pandas as pd\n",
    "from statsmodels.stats.anova import AnovaRM\n",
    "import statsmodels.api as sm\n",
    "from statsmodels.formula.api import ols\n",
    "import seaborn as sns\n"
   ]
  },
  {
   "cell_type": "code",
   "execution_count": 2,
   "metadata": {},
   "outputs": [],
   "source": [
    "data_path = 'data_ddm.csv'\n",
    "data = pd.read_csv(data_path)\n"
   ]
  },
  {
   "cell_type": "markdown",
   "metadata": {},
   "source": [
    "mean accuracy per subject and per condition"
   ]
  },
  {
   "cell_type": "code",
   "execution_count": 3,
   "metadata": {},
   "outputs": [],
   "source": [
    "# 'choice' to numerical values where 'correct' = 1 and otherwise = 0\n",
    "data['correct'] = (data['choice'] == 'correct').astype(int)\n",
    "mean_accuracy = data.groupby(['id', 'cond'])['correct'].mean().reset_index()"
   ]
  },
  {
   "cell_type": "code",
   "execution_count": 4,
   "metadata": {},
   "outputs": [
    {
     "data": {
      "text/html": [
       "<div>\n",
       "<style scoped>\n",
       "    .dataframe tbody tr th:only-of-type {\n",
       "        vertical-align: middle;\n",
       "    }\n",
       "\n",
       "    .dataframe tbody tr th {\n",
       "        vertical-align: top;\n",
       "    }\n",
       "\n",
       "    .dataframe thead th {\n",
       "        text-align: right;\n",
       "    }\n",
       "</style>\n",
       "<table border=\"1\" class=\"dataframe\">\n",
       "  <thead>\n",
       "    <tr style=\"text-align: right;\">\n",
       "      <th></th>\n",
       "      <th>id</th>\n",
       "      <th>cond</th>\n",
       "      <th>correct</th>\n",
       "    </tr>\n",
       "  </thead>\n",
       "  <tbody>\n",
       "    <tr>\n",
       "      <th>0</th>\n",
       "      <td>1</td>\n",
       "      <td>anti</td>\n",
       "      <td>0.831169</td>\n",
       "    </tr>\n",
       "    <tr>\n",
       "      <th>1</th>\n",
       "      <td>1</td>\n",
       "      <td>pro</td>\n",
       "      <td>0.973333</td>\n",
       "    </tr>\n",
       "    <tr>\n",
       "      <th>2</th>\n",
       "      <td>10</td>\n",
       "      <td>anti</td>\n",
       "      <td>0.941176</td>\n",
       "    </tr>\n",
       "    <tr>\n",
       "      <th>3</th>\n",
       "      <td>10</td>\n",
       "      <td>pro</td>\n",
       "      <td>1.000000</td>\n",
       "    </tr>\n",
       "    <tr>\n",
       "      <th>4</th>\n",
       "      <td>11</td>\n",
       "      <td>anti</td>\n",
       "      <td>0.916667</td>\n",
       "    </tr>\n",
       "    <tr>\n",
       "      <th>...</th>\n",
       "      <td>...</td>\n",
       "      <td>...</td>\n",
       "      <td>...</td>\n",
       "    </tr>\n",
       "    <tr>\n",
       "      <th>343</th>\n",
       "      <td>o88</td>\n",
       "      <td>pro</td>\n",
       "      <td>1.000000</td>\n",
       "    </tr>\n",
       "    <tr>\n",
       "      <th>344</th>\n",
       "      <td>o89</td>\n",
       "      <td>anti</td>\n",
       "      <td>0.861111</td>\n",
       "    </tr>\n",
       "    <tr>\n",
       "      <th>345</th>\n",
       "      <td>o89</td>\n",
       "      <td>pro</td>\n",
       "      <td>0.990196</td>\n",
       "    </tr>\n",
       "    <tr>\n",
       "      <th>346</th>\n",
       "      <td>o9</td>\n",
       "      <td>anti</td>\n",
       "      <td>0.960396</td>\n",
       "    </tr>\n",
       "    <tr>\n",
       "      <th>347</th>\n",
       "      <td>o9</td>\n",
       "      <td>pro</td>\n",
       "      <td>1.000000</td>\n",
       "    </tr>\n",
       "  </tbody>\n",
       "</table>\n",
       "<p>348 rows × 3 columns</p>\n",
       "</div>"
      ],
      "text/plain": [
       "      id  cond   correct\n",
       "0      1  anti  0.831169\n",
       "1      1   pro  0.973333\n",
       "2     10  anti  0.941176\n",
       "3     10   pro  1.000000\n",
       "4     11  anti  0.916667\n",
       "..   ...   ...       ...\n",
       "343  o88   pro  1.000000\n",
       "344  o89  anti  0.861111\n",
       "345  o89   pro  0.990196\n",
       "346   o9  anti  0.960396\n",
       "347   o9   pro  1.000000\n",
       "\n",
       "[348 rows x 3 columns]"
      ]
     },
     "execution_count": 4,
     "metadata": {},
     "output_type": "execute_result"
    }
   ],
   "source": [
    "mean_accuracy"
   ]
  },
  {
   "cell_type": "markdown",
   "metadata": {},
   "source": [
    "\n",
    "\n",
    "subjects with overall mean accuracy > 50%"
   ]
  },
  {
   "cell_type": "code",
   "execution_count": 5,
   "metadata": {},
   "outputs": [],
   "source": [
    "subject_means = mean_accuracy.groupby('id')['correct'].mean()\n",
    "subjects_to_keep = subject_means[subject_means > 0.5].index"
   ]
  },
  {
   "cell_type": "markdown",
   "metadata": {},
   "source": [
    "remove 8 subjects that didnt understand the task"
   ]
  },
  {
   "cell_type": "code",
   "execution_count": 6,
   "metadata": {},
   "outputs": [],
   "source": [
    "\n",
    "filtered_mean_accuracy = mean_accuracy[mean_accuracy['id'].isin(subjects_to_keep)].reset_index(drop=True)\n"
   ]
  },
  {
   "cell_type": "markdown",
   "metadata": {},
   "source": [
    "checks:"
   ]
  },
  {
   "cell_type": "code",
   "execution_count": 7,
   "metadata": {},
   "outputs": [
    {
     "data": {
      "text/plain": [
       "174"
      ]
     },
     "execution_count": 7,
     "metadata": {},
     "output_type": "execute_result"
    }
   ],
   "source": [
    "total_subjects = data['id'].nunique()\n",
    "total_subjects"
   ]
  },
  {
   "cell_type": "code",
   "execution_count": 8,
   "metadata": {},
   "outputs": [
    {
     "data": {
      "text/plain": [
       "8"
      ]
     },
     "execution_count": 8,
     "metadata": {},
     "output_type": "execute_result"
    }
   ],
   "source": [
    "excluded_subjects = total_subjects - len(subjects_to_keep)\n",
    "excluded_subjects"
   ]
  },
  {
   "cell_type": "code",
   "execution_count": 9,
   "metadata": {},
   "outputs": [
    {
     "data": {
      "text/html": [
       "<div>\n",
       "<style scoped>\n",
       "    .dataframe tbody tr th:only-of-type {\n",
       "        vertical-align: middle;\n",
       "    }\n",
       "\n",
       "    .dataframe tbody tr th {\n",
       "        vertical-align: top;\n",
       "    }\n",
       "\n",
       "    .dataframe thead th {\n",
       "        text-align: right;\n",
       "    }\n",
       "</style>\n",
       "<table border=\"1\" class=\"dataframe\">\n",
       "  <thead>\n",
       "    <tr style=\"text-align: right;\">\n",
       "      <th></th>\n",
       "      <th>id</th>\n",
       "      <th>cond</th>\n",
       "      <th>correct</th>\n",
       "    </tr>\n",
       "  </thead>\n",
       "  <tbody>\n",
       "    <tr>\n",
       "      <th>0</th>\n",
       "      <td>1</td>\n",
       "      <td>anti</td>\n",
       "      <td>0.831169</td>\n",
       "    </tr>\n",
       "    <tr>\n",
       "      <th>1</th>\n",
       "      <td>1</td>\n",
       "      <td>pro</td>\n",
       "      <td>0.973333</td>\n",
       "    </tr>\n",
       "    <tr>\n",
       "      <th>2</th>\n",
       "      <td>10</td>\n",
       "      <td>anti</td>\n",
       "      <td>0.941176</td>\n",
       "    </tr>\n",
       "    <tr>\n",
       "      <th>3</th>\n",
       "      <td>10</td>\n",
       "      <td>pro</td>\n",
       "      <td>1.000000</td>\n",
       "    </tr>\n",
       "    <tr>\n",
       "      <th>4</th>\n",
       "      <td>11</td>\n",
       "      <td>anti</td>\n",
       "      <td>0.916667</td>\n",
       "    </tr>\n",
       "    <tr>\n",
       "      <th>...</th>\n",
       "      <td>...</td>\n",
       "      <td>...</td>\n",
       "      <td>...</td>\n",
       "    </tr>\n",
       "    <tr>\n",
       "      <th>327</th>\n",
       "      <td>o88</td>\n",
       "      <td>pro</td>\n",
       "      <td>1.000000</td>\n",
       "    </tr>\n",
       "    <tr>\n",
       "      <th>328</th>\n",
       "      <td>o89</td>\n",
       "      <td>anti</td>\n",
       "      <td>0.861111</td>\n",
       "    </tr>\n",
       "    <tr>\n",
       "      <th>329</th>\n",
       "      <td>o89</td>\n",
       "      <td>pro</td>\n",
       "      <td>0.990196</td>\n",
       "    </tr>\n",
       "    <tr>\n",
       "      <th>330</th>\n",
       "      <td>o9</td>\n",
       "      <td>anti</td>\n",
       "      <td>0.960396</td>\n",
       "    </tr>\n",
       "    <tr>\n",
       "      <th>331</th>\n",
       "      <td>o9</td>\n",
       "      <td>pro</td>\n",
       "      <td>1.000000</td>\n",
       "    </tr>\n",
       "  </tbody>\n",
       "</table>\n",
       "<p>332 rows × 3 columns</p>\n",
       "</div>"
      ],
      "text/plain": [
       "      id  cond   correct\n",
       "0      1  anti  0.831169\n",
       "1      1   pro  0.973333\n",
       "2     10  anti  0.941176\n",
       "3     10   pro  1.000000\n",
       "4     11  anti  0.916667\n",
       "..   ...   ...       ...\n",
       "327  o88   pro  1.000000\n",
       "328  o89  anti  0.861111\n",
       "329  o89   pro  0.990196\n",
       "330   o9  anti  0.960396\n",
       "331   o9   pro  1.000000\n",
       "\n",
       "[332 rows x 3 columns]"
      ]
     },
     "execution_count": 9,
     "metadata": {},
     "output_type": "execute_result"
    }
   ],
   "source": [
    "filtered_mean_accuracy #new table with means"
   ]
  },
  {
   "cell_type": "markdown",
   "metadata": {},
   "source": [
    "now excluding subjects whose accuracy in any condition is less than 50% (not the averaged one)"
   ]
  },
  {
   "cell_type": "code",
   "execution_count": 10,
   "metadata": {},
   "outputs": [
    {
     "data": {
      "text/plain": [
       "(      id  cond   correct age_group\n",
       " 0      1  anti  0.831169     young\n",
       " 1      1   pro  0.973333     young\n",
       " 2     10  anti  0.941176     young\n",
       " 3     10   pro  1.000000     young\n",
       " 4     11  anti  0.916667     young\n",
       " ..   ...   ...       ...       ...\n",
       " 315  o88   pro  1.000000       old\n",
       " 316  o89  anti  0.861111       old\n",
       " 317  o89   pro  0.990196       old\n",
       " 318   o9  anti  0.960396       old\n",
       " 319   o9   pro  1.000000       old\n",
       " \n",
       " [320 rows x 4 columns],\n",
       " 'Total subjects: 174, Excluded subjects: 14')"
      ]
     },
     "execution_count": 10,
     "metadata": {},
     "output_type": "execute_result"
    }
   ],
   "source": [
    "subjects_to_exclude = mean_accuracy[mean_accuracy['correct'] < 0.5]['id'].unique()\n",
    "revised_filtered_mean_accuracy = mean_accuracy[~mean_accuracy['id'].isin(subjects_to_exclude)].reset_index(drop=True)\n",
    "revised_filtered_mean_accuracy['age_group'] = revised_filtered_mean_accuracy['id'].apply(lambda x: 'old' if str(x).startswith('o') else 'young')\n",
    "\n",
    "total_subjects_revised = data['id'].nunique()\n",
    "excluded_subjects_revised = total_subjects_revised - revised_filtered_mean_accuracy['id'].nunique()\n",
    "excluded_subjects_info_revised = f\"Total subjects: {total_subjects_revised}, Excluded subjects: {excluded_subjects_revised}\"\n",
    "\n",
    "revised_filtered_mean_accuracy, excluded_subjects_info_revised\n"
   ]
  },
  {
   "cell_type": "code",
   "execution_count": 11,
   "metadata": {},
   "outputs": [
    {
     "data": {
      "text/plain": [
       "14"
      ]
     },
     "execution_count": 11,
     "metadata": {},
     "output_type": "execute_result"
    }
   ],
   "source": [
    "excluded_subjects_revised"
   ]
  },
  {
   "cell_type": "code",
   "execution_count": 12,
   "metadata": {},
   "outputs": [
    {
     "data": {
      "text/plain": [
       "['59',\n",
       " '66',\n",
       " '34',\n",
       " 'o64',\n",
       " 'o76',\n",
       " '53',\n",
       " '79',\n",
       " 'o31',\n",
       " 'o13',\n",
       " 'o8',\n",
       " '50',\n",
       " '48',\n",
       " 'o27',\n",
       " 'o77']"
      ]
     },
     "execution_count": 12,
     "metadata": {},
     "output_type": "execute_result"
    }
   ],
   "source": [
    "excluded_subjects_list = list(set(data['id'].unique()) - set(revised_filtered_mean_accuracy['id'].unique()))\n",
    "excluded_subjects_list"
   ]
  },
  {
   "cell_type": "markdown",
   "metadata": {},
   "source": [
    " Two-way ANOVA with interaction term "
   ]
  },
  {
   "cell_type": "code",
   "execution_count": 13,
   "metadata": {},
   "outputs": [],
   "source": [
    "revised_filtered_mean_accuracy['id'] = revised_filtered_mean_accuracy['id'].astype('category')\n",
    "revised_filtered_mean_accuracy['cond'] = revised_filtered_mean_accuracy['cond'].astype('category')\n",
    "revised_filtered_mean_accuracy['age_group'] = revised_filtered_mean_accuracy['age_group'].astype('category')"
   ]
  },
  {
   "cell_type": "code",
   "execution_count": 14,
   "metadata": {},
   "outputs": [
    {
     "data": {
      "text/html": [
       "<div>\n",
       "<style scoped>\n",
       "    .dataframe tbody tr th:only-of-type {\n",
       "        vertical-align: middle;\n",
       "    }\n",
       "\n",
       "    .dataframe tbody tr th {\n",
       "        vertical-align: top;\n",
       "    }\n",
       "\n",
       "    .dataframe thead th {\n",
       "        text-align: right;\n",
       "    }\n",
       "</style>\n",
       "<table border=\"1\" class=\"dataframe\">\n",
       "  <thead>\n",
       "    <tr style=\"text-align: right;\">\n",
       "      <th></th>\n",
       "      <th>sum_sq</th>\n",
       "      <th>df</th>\n",
       "      <th>F</th>\n",
       "      <th>PR(&gt;F)</th>\n",
       "    </tr>\n",
       "  </thead>\n",
       "  <tbody>\n",
       "    <tr>\n",
       "      <th>C(cond)</th>\n",
       "      <td>0.662337</td>\n",
       "      <td>1.0</td>\n",
       "      <td>86.834008</td>\n",
       "      <td>2.092984e-18</td>\n",
       "    </tr>\n",
       "    <tr>\n",
       "      <th>C(age_group)</th>\n",
       "      <td>0.184687</td>\n",
       "      <td>1.0</td>\n",
       "      <td>24.212933</td>\n",
       "      <td>1.390722e-06</td>\n",
       "    </tr>\n",
       "    <tr>\n",
       "      <th>C(cond):C(age_group)</th>\n",
       "      <td>0.057937</td>\n",
       "      <td>1.0</td>\n",
       "      <td>7.595677</td>\n",
       "      <td>6.190552e-03</td>\n",
       "    </tr>\n",
       "    <tr>\n",
       "      <th>Residual</th>\n",
       "      <td>2.410330</td>\n",
       "      <td>316.0</td>\n",
       "      <td>NaN</td>\n",
       "      <td>NaN</td>\n",
       "    </tr>\n",
       "  </tbody>\n",
       "</table>\n",
       "</div>"
      ],
      "text/plain": [
       "                        sum_sq     df          F        PR(>F)\n",
       "C(cond)               0.662337    1.0  86.834008  2.092984e-18\n",
       "C(age_group)          0.184687    1.0  24.212933  1.390722e-06\n",
       "C(cond):C(age_group)  0.057937    1.0   7.595677  6.190552e-03\n",
       "Residual              2.410330  316.0        NaN           NaN"
      ]
     },
     "execution_count": 14,
     "metadata": {},
     "output_type": "execute_result"
    }
   ],
   "source": [
    "model_revised = ols('correct ~ C(cond) * C(age_group)', data=revised_filtered_mean_accuracy).fit()\n",
    "anova_results_revised = sm.stats.anova_lm(model_revised, typ=2)\n",
    "anova_results_revised"
   ]
  },
  {
   "cell_type": "markdown",
   "metadata": {},
   "source": [
    "results:"
   ]
  },
  {
   "cell_type": "markdown",
   "metadata": {},
   "source": [
    "Condition Effect: The difference in accuracy across conditions is significant (F(1,316)=86.83, p<.0001).\n",
    "\n",
    "Age Group Effect: The difference in accuracy between age groups is also significant (F(1,316)=24.21, p<.0001).\n",
    "\n",
    "Interaction Effect: The interaction between condition and age group significantly affects accuracy (F(1,316)=7.60, p=.006)."
   ]
  },
  {
   "cell_type": "code",
   "execution_count": 15,
   "metadata": {},
   "outputs": [
    {
     "data": {
      "image/png": "[encoded data removed]",
      "text/plain": [
       "<Figure size 1200x600 with 1 Axes>"
      ]
     },
     "metadata": {},
     "output_type": "display_data"
    }
   ],
   "source": [
    "import matplotlib.pyplot as plt\n",
    "import seaborn as sns\n",
    "\n",
    "\n",
    "plt.figure(figsize=(12, 6))\n",
    "sns.violinplot(x='cond', y='correct', hue='age_group', data=revised_filtered_mean_accuracy, split=False, inner=\"quartile\", palette=\"Set2\")\n",
    "plt.title('Accuracy by Condition and Age Group after filtering')\n",
    "plt.xlabel('Condition')\n",
    "plt.ylabel('Accuracy')\n",
    "plt.legend(title='Age Group', loc='upper left')\n",
    "plt.show()\n"
   ]
  },
  {
   "cell_type": "code",
   "execution_count": null,
   "metadata": {},
   "outputs": [],
   "source": []
  }
 ],
 "metadata": {
  "kernelspec": {
   "display_name": "mykernel",
   "language": "python",
   "name": "mykernel"
  },
  "language_info": {
   "codemirror_mode": {
    "name": "ipython",
    "version": 3
   },
   "file_extension": ".py",
   "mimetype": "text/x-python",
   "name": "python",
   "nbconvert_exporter": "python",
   "pygments_lexer": "ipython3",
   "version": "3.10.12"
  }
 },
 "nbformat": 4,
 "nbformat_minor": 2
}
